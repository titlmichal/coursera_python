{
 "cells": [
  {
   "cell_type": "markdown",
   "metadata": {},
   "source": [
    "<h1> Module 4 </h1>\n",
    "\n",
    "- they are kinda promoting followup education courses by them (more focused on OOP, theoretical groundings and math)\n",
    "- also recommending to join an open-source project and get involve there\n",
    "    - so either I will get constructive feedback or my implementation of the issue will be implemented\n",
    "- for that I will need version control\n",
    "    - basically snapshoting old versions\n",
    "    - alternative to popular git: subversion\n",
    "- terminology\n",
    "    - repo ...\n",
    "    - revision/version - particular historical/current version of program\n",
    "    - working copy - local copy of the project file\n",
    "    - checkout - operation creating a working copy from repo\n",
    "    - commit - operation creating new revision\n",
    "- git 101\n",
    "    - git clone <repo address on the server>\n",
    "    - git add <files>\n",
    "    - git commit\n",
    "    - git push\n",
    "    - git pull (in case the repo is cloned on multiple PCs to get all commits from other)\n",
    "- big thing - resulting and resolving conflicts\n",
    "    - need to pull same versions and work on thpse\n",
    "    - but that still can lead to conflict"
   ]
  }
 ],
 "metadata": {
  "language_info": {
   "name": "python"
  }
 },
 "nbformat": 4,
 "nbformat_minor": 2
}
