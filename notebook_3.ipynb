{
 "cells": [
  {
   "cell_type": "markdown",
   "metadata": {},
   "source": [
    "<h1> Module 3 </h1>\n",
    "\n",
    "- previously list and tuples, now sets\n",
    "- no orderding + no duplicits\n",
    "- {} curly braces are used for set creation\n",
    "- but those are used for dicts as well --> depending on the content, Python will make set or dict"
   ]
  },
  {
   "cell_type": "code",
   "execution_count": 4,
   "metadata": {},
   "outputs": [
    {
     "name": "stdout",
     "output_type": "stream",
     "text": [
      "{1, 2, 4, 5}\n",
      "{'b', 'c', 'a'}\n",
      "{} <class 'dict'>\n"
     ]
    }
   ],
   "source": [
    "set_of_nrs = {4, 5, 2, 1}\n",
    "print(set_of_nrs)\n",
    "\n",
    "set_of_letters = {\"a\", \"a\", \"b\", \"b\", \"c\"}\n",
    "print(set_of_letters)\n",
    "\n",
    "empty_set = {}\n",
    "print(empty_set, type(empty_set))"
   ]
  },
  {
   "cell_type": "code",
   "execution_count": 13,
   "metadata": {},
   "outputs": [
    {
     "name": "stdout",
     "output_type": "stream",
     "text": [
      "set() <class 'set'>\n",
      "{1, 2, 3, 4}\n",
      "{0, 1, 2, 3, 4}\n"
     ]
    }
   ],
   "source": [
    "empty_set2 = set()\n",
    "print(empty_set2, type(empty_set2))\n",
    "\n",
    "set1 = set([1,1,2,2,3,4])\n",
    "print(set1)\n",
    "\n",
    "set2 = set(range(5))\n",
    "print(set2)"
   ]
  },
  {
   "cell_type": "code",
   "execution_count": 14,
   "metadata": {},
   "outputs": [
    {
     "name": "stdout",
     "output_type": "stream",
     "text": [
      "{1, 2, 3, 4, 10}\n",
      "1\n",
      "{2, 3, 4, 10}\n",
      "{2, 4, 10}\n"
     ]
    }
   ],
   "source": [
    "set1.add(10)\n",
    "print(set1)\n",
    "\n",
    "element = set1.pop()        #randomly chooses a value to be dropped\n",
    "print(element)\n",
    "print(set1)\n",
    "\n",
    "set1.discard(3)\n",
    "print(set1)"
   ]
  },
  {
   "cell_type": "code",
   "execution_count": 16,
   "metadata": {},
   "outputs": [
    {
     "name": "stdout",
     "output_type": "stream",
     "text": [
      "b\n",
      "c\n",
      "a\n"
     ]
    }
   ],
   "source": [
    "for item in set_of_letters:\n",
    "    print(item)"
   ]
  },
  {
   "cell_type": "markdown",
   "metadata": {},
   "source": [
    "<h3> Hashing </h3>\n",
    "\n",
    "- adding some specific stuff to set --> unhashable type error\n",
    "- testing membership in list takes long --> thanks to hash table in sets it is quicker\n",
    "- hash table - table where u look up directly by indexing\n",
    "- Python has has function for each hashable type --> they take object and return hash to be used asi index in the hash table\n",
    "    - these functions will always return the same hash for same value object\n",
    "    - they will distribute the has values across the possible space (if two objects had the same, we would find them but would take longer)\n",
    "- my understanding is that the hash index is dependent on the value of the object\n",
    "- 2 different object having same hash --> collision\n",
    "- mutable objects --> UNhashable (if it changes the hash changes too)\n",
    "    - if there is a hash function for a data type (such as set) --> it is hashable --> usually immutable builtin types\n",
    "- dictionaries have internal has tables --> cant have duplicate keys and dont preserve order"
   ]
  },
  {
   "cell_type": "markdown",
   "metadata": {},
   "source": [
    "<h3> Comparing code efficiency </h3>\n",
    "\n",
    "- how can we tell how efficient our code/algorythm is?\n",
    "1) benchmarking\n",
    "    - comparing to previous version/competing SW/etc\n",
    "    - but there are lot of factors influencing - input data, type of code, speed of machine ...\n",
    "2) relative benchmarking\n",
    "    - how the runtime gets bigger as the input gets bigger\n",
    "    - solves the problem of different machine speed and others\n",
    "    - noted by big O()\n",
    "    - could be constant (O(1)), logarithmic (O(log n)), linear (O(n)), quadratic(O(n*n)), ...\n",
    "- speed of lists X dicts\n",
    "    - slightly different but mainly for membership testing\n",
    "    - hashing of dicts helps to constant speed --> membership in dict is constant, in list it is function of n"
   ]
  }
 ],
 "metadata": {
  "kernelspec": {
   "display_name": "Python 3",
   "language": "python",
   "name": "python3"
  },
  "language_info": {
   "codemirror_mode": {
    "name": "ipython",
    "version": 3
   },
   "file_extension": ".py",
   "mimetype": "text/x-python",
   "name": "python",
   "nbconvert_exporter": "python",
   "pygments_lexer": "ipython3",
   "version": "3.11.9"
  }
 },
 "nbformat": 4,
 "nbformat_minor": 2
}
